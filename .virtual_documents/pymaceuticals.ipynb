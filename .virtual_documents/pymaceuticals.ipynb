


# Dependencies and Setup
import matplotlib.pyplot as plt
import pandas as pd
import scipy.stats as st

# Study data files
mouse_metadata_path = "Resources/Mouse_metadata.csv"
study_results_path = "Resources/Study_results.csv"

# Read the mouse data and the study results
mouse_metadata = pd.read_csv(mouse_metadata_path)
study_results = pd.read_csv(study_results_path)

# Combine the data into a single DataFrame
merged_data = pd.merge(mouse_metadata, study_results, how="inner", on="Mouse ID")

# Clean and rearrange column names
merged_data = merged_data.rename(columns={'Age_months': 'Age (months)'})
merged_data = merged_data[['Mouse ID', 'Sex', 'Age (months)', 'Weight (g)', 'Drug Regimen', 'Timepoint', 'Tumor Volume (mm3)', 'Metastatic Sites']]

# Display the data table for preview
merged_data.head()


# DO NOT RUN THIS LINE


# Checking the number of mice.
number_mice = len(merged_data['Mouse ID'].unique())
number_mice


# DO NOT RUN THIS LINE


# Our data should be uniquely identified by Mouse ID and Timepoint
# Get the duplicate mice by ID number that shows up for Mouse ID and Timepoint. 
duplicates = merged_data[merged_data.duplicated(['Mouse ID', 'Timepoint'])]
duplicated_mouseID = duplicates['Mouse ID'].values[0]
duplicated_mouseID


# Optional: Get all the data for the duplicate mouse ID.
merged_data.loc[merged_data['Mouse ID'] == duplicated_mouseID]


# DO NOT RUN THIS LINE


# Create a clean DataFrame by dropping the duplicate mouse by its ID.
clean_data = merged_data.loc[merged_data['Mouse ID'] != duplicated_mouseID]
clean_data.head()


# DO NOT RUN THIS LINE


# Checking the number of mice in the clean DataFrame.
confirm_number = len(clean_data['Mouse ID'].unique())
confirm_number





# Generate a summary statistics table of mean, median, variance, standard deviation, and SEM of the tumor volume for each regimen

# Use groupby and summary statistical methods to calculate the following properties of each drug regimen: 
# mean, median, variance, standard deviation, and SEM of the tumor volume. 
# Assemble the resulting series into a single summary DataFrame.

list_regimen = clean_data['Drug Regimen'].unique()

mean_vol = []
median_vol = []
variance_vol = []
stddev_vol = []
stderr_vol = []

for drug in list_regimen:
    drug_name = (clean_data['Drug Regimen'] == drug)
    mean_vol.append(clean_data.loc[drug_name, 'Tumor Volume (mm3)'].mean())
    median_vol.append(clean_data.loc[drug_name, 'Tumor Volume (mm3)'].median())
    variance_vol.append(clean_data.loc[drug_name, 'Tumor Volume (mm3)'].var())
    stddev_vol.append(clean_data.loc[drug_name, 'Tumor Volume (mm3)'].std())
    stderr_vol.append(clean_data.loc[drug_name, 'Tumor Volume (mm3)'].sem())

drug_df = pd.DataFrame({
    "Mean Tumor Volume": mean_vol,
    "Median Tumor Volume": median_vol,
    "Tumor Volume Variance": variance_vol,
    "Tumor Volume Std. Dev.": stddev_vol,
    "Tumor Volume Std. Err.": stderr_vol})
drug_df = drug_df.set_index(list_regimen).sort_index()
drug_df


# DO NOT RUN THIS LINE


# A more advanced method to generate a summary statistics table of mean, median, variance, standard deviation,
# and SEM of the tumor volume for each regimen (only one method is required in the solution)

# Using the aggregation method, produce the same summary statistics in a single line
agg_df = clean_data.groupby('Drug Regimen').agg({"Tumor Volume (mm3)": ['mean', 'median', 'var', 'std', 'sem']})
agg_df


# DO NOT RUN THIS LINE





# Generate a bar plot showing the total number of rows (Mouse ID/Timepoints) for each drug regimen using Pandas.
bar_data = clean_data.groupby('Drug Regimen').count()

bar_chart = bar_data['Timepoint'].sort_values(ascending=False).plot(kind="bar")
bar_chart.set_xlabel("Drug Regimen")
bar_chart.set_ylabel("# of Observed Mouse Timepoints")


# DO NOT RUN THIS LINE


# Generate a bar plot showing the total number of rows (Mouse ID/Timepoints) for each drug regimen using pyplot.
sorted_bar_data = bar_data['Timepoint'].sort_values(ascending=False)
plt.bar(sorted_bar_data.index, sorted_bar_data.values)
plt.xlabel("Drug Regimen")
plt.xticks(rotation=90)
plt.ylabel("# of Observed Mouse Timepoints")
plt.tight_layout()


# DO NOT RUN THIS LINE


# Generate a pie plot showing the distribution of female versus male mice using Pandas
pie_data = clean_data.groupby('Sex').count()
pie_plot = pie_data['Mouse ID'].sort_values(ascending=False).plot(kind="pie", autopct="%.1f%%")
pie_plot.set_ylabel("Sex")


# DO NOT RUN THIS LINE


# Generate a pie plot showing the distribution of female versus male mice using pyplot
sorted_pie_data = pie_data['Mouse ID'].sort_values(ascending=False)
plt.pie(sorted_pie_data.values, labels=sorted_pie_data.index, autopct="%.1f%%")


# DO NOT RUN THIS LINE





# Calculate the final tumor volume of each mouse across four of the treatment regimens:  
# Capomulin, Ramicane, Infubinol, and Ceftamin

# Start by getting the last (greatest) timepoint for each mouse


# Merge this group df with the original DataFrame to get the tumor volume at the last timepoint



# Put treatments into a list for for loop (and later for plot labels)


# Create empty list to fill with tumor vol data (for plotting)


# Calculate the IQR and quantitatively determine if there are any potential outliers. 

    
    # Locate the rows which contain mice on each drug and get the tumor volumes

    
    # add subset 

    
    # Determine outliers using upper and lower bounds



# Generate a box plot that shows the distrubution of the tumor volume for each treatment group.






# Generate a line plot of tumor volume vs. time point for a single mouse treated with Capomulin



# Generate a scatter plot of mouse weight vs. the average observed tumor volume for the entire Capomulin regimen






# Calculate the correlation coefficient and a linear regression model 
# for mouse weight and average observed tumor volume for the entire Capomulin regimen




